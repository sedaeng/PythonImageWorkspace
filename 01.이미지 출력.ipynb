{
 "cells": [],
 "metadata": {},
 "nbformat": 4,
 "nbformat_minor": 5
}
import cv2
cv2.__version__
img = cv2.imread('img.jpg') #해당 경로 파일 읽어오기
cv2.imshow("img",img)  #img 라는 이름의 창에 읽어온 파일 표시
cv2.waitKey(0)   # 지정된 시간(ms)동안 사용자 키 입력 대기
cv2.destroyAllWindows()   # 모든 창 닫기
